{
 "cells": [
  {
   "cell_type": "code",
   "execution_count": 10,
   "id": "41a046a4-6ba2-4488-96bf-f0c626c87a78",
   "metadata": {},
   "outputs": [],
   "source": [
    "coffee_intake= 9\n",
    "sleep_quality = 6"
   ]
  },
  {
   "cell_type": "code",
   "execution_count": 11,
   "id": "260e593a-7b92-4904-8e2c-4dab349e7de6",
   "metadata": {},
   "outputs": [
    {
     "name": "stdin",
     "output_type": "stream",
     "text": [
      "Enter your first name:  Stefanos\n",
      "Enter your last name:  Georganos\n"
     ]
    }
   ],
   "source": [
    "first_name=input(\"Enter your first name: \")\n",
    "last_name=input(\"Enter your last name: \")\n",
    "my_name = first_name + \" \" +last_name"
   ]
  },
  {
   "cell_type": "code",
   "execution_count": 5,
   "id": "c064ef26-8a91-4de8-ad18-b1a53af64a57",
   "metadata": {},
   "outputs": [],
   "source": [
    "sensitivity_rating= (coffee_intake+sleep_quality) / 2"
   ]
  },
  {
   "cell_type": "code",
   "execution_count": 6,
   "id": "b814fb9d-e987-4dcd-a7ad-fdb973b575a7",
   "metadata": {},
   "outputs": [
    {
     "name": "stdout",
     "output_type": "stream",
     "text": [
      "7.5\n"
     ]
    }
   ],
   "source": [
    "print(sensitivity_rating)"
   ]
  },
  {
   "cell_type": "code",
   "execution_count": 7,
   "id": "493400b4-234b-4c44-bb33-ccd009ec4b82",
   "metadata": {},
   "outputs": [
    {
     "name": "stdout",
     "output_type": "stream",
     "text": [
      "<class 'int'>\n",
      "<class 'int'>\n",
      "<class 'float'>\n"
     ]
    }
   ],
   "source": [
    "print(type(coffee_intake))\n",
    "print(type(sleep_quality))\n",
    "print(type(sensitivity_rating))"
   ]
  },
  {
   "cell_type": "markdown",
   "id": "38642669-3cb9-4457-8fca-41e3fd2d3a5b",
   "metadata": {},
   "source": [
    "Yes mucho sense"
   ]
  },
  {
   "cell_type": "code",
   "execution_count": 15,
   "id": "2aad3896-38ff-4021-b8b6-6a3961cf878c",
   "metadata": {},
   "outputs": [
    {
     "name": "stdout",
     "output_type": "stream",
     "text": [
      "My name is Stefanos and I give coffee intake a score of 9 out of 10!\n"
     ]
    }
   ],
   "source": [
    "print(\"My name is\", first_name,\"and I give coffee intake a score of\", coffee_intake,\"out of 10!\")"
   ]
  },
  {
   "cell_type": "code",
   "execution_count": 19,
   "id": "5b55c515-a0d0-4b60-9f77-d65735635893",
   "metadata": {},
   "outputs": [
    {
     "name": "stdout",
     "output_type": "stream",
     "text": [
      "I am Stefanos Georganos and my sleeping_quality rating is 6 / 10!\n"
     ]
    }
   ],
   "source": [
    "print(\"I am\", my_name, \"and my sleeping_quality rating is\", sleep_quality,\"/ 10!\")"
   ]
  },
  {
   "cell_type": "code",
   "execution_count": 21,
   "id": "1246b097-5127-4a11-a57c-abeafd509cec",
   "metadata": {},
   "outputs": [
    {
     "name": "stdout",
     "output_type": "stream",
     "text": [
      "Based on the factors above, my sensitivity rating is 7.5 out of 10, or 75.0 %\n"
     ]
    }
   ],
   "source": [
    "print(\"Based on the factors above, my sensitivity rating is\", sensitivity_rating,\"out of 10, or\", sensitivity_rating*10,\"%\")"
   ]
  },
  {
   "cell_type": "code",
   "execution_count": null,
   "id": "22df1591-0b52-47b5-987e-b9f08fb3b7bd",
   "metadata": {},
   "outputs": [],
   "source": []
  }
 ],
 "metadata": {
  "kernelspec": {
   "display_name": "Python 3 (ipykernel)",
   "language": "python",
   "name": "python3"
  },
  "language_info": {
   "codemirror_mode": {
    "name": "ipython",
    "version": 3
   },
   "file_extension": ".py",
   "mimetype": "text/x-python",
   "name": "python",
   "nbconvert_exporter": "python",
   "pygments_lexer": "ipython3",
   "version": "3.9.12"
  }
 },
 "nbformat": 4,
 "nbformat_minor": 5
}
